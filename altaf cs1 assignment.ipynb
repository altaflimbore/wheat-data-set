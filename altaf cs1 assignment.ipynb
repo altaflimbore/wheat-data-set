{
 "cells": [
  {
   "cell_type": "code",
   "execution_count": 8,
   "id": "62efde83",
   "metadata": {},
   "outputs": [
    {
     "name": "stdout",
     "output_type": "stream",
     "text": [
      "Statistics for X\n",
      "\n",
      "Mean :   50.5\n",
      "\n",
      "Std :   31.078127356711825\n",
      "\n",
      "Variance :   965.85\n",
      "\n",
      "Median is :   48.5\n",
      "\n",
      "Mode is :   56\n"
     ]
    }
   ],
   "source": [
    "import numpy as np\n",
    "import statistics\n",
    "\n",
    "x = [14,12,45,62,21,29,52,102,99,69]\n",
    "y=[56,98,196,201,23,4,58,75,77,136]\n",
    "a = np.mean(x)\n",
    "\n",
    "print(\"Statistics for X\")\n",
    "print(\"\\nMean :  \", a)\n",
    "a= np.std(x)\n",
    "print(\"\\nStd :  \", a)\n",
    "\n",
    "a= np.var(x)\n",
    "print(\"\\nVariance :  \", a)\n",
    "\n",
    "n = len(x) \n",
    "x.sort() \n",
    "\n",
    "if n % 2 == 0: \n",
    "    median1 = x[n//2] \n",
    "    median2 = x[n//2 - 1] \n",
    "    median = (median1 + median2)/2\n",
    "else: \n",
    "    median = x[n//2] \n",
    "print(\"\\nMedian is :  \",median)\n",
    "\n",
    "print(\"\\nMode is :  \", statistics.mode(y) )"
   ]
  },
  {
   "cell_type": "code",
   "execution_count": null,
   "id": "4a87a1b5",
   "metadata": {},
   "outputs": [],
   "source": []
  }
 ],
 "metadata": {
  "kernelspec": {
   "display_name": "Python 3 (ipykernel)",
   "language": "python",
   "name": "python3"
  },
  "language_info": {
   "codemirror_mode": {
    "name": "ipython",
    "version": 3
   },
   "file_extension": ".py",
   "mimetype": "text/x-python",
   "name": "python",
   "nbconvert_exporter": "python",
   "pygments_lexer": "ipython3",
   "version": "3.9.13"
  }
 },
 "nbformat": 4,
 "nbformat_minor": 5
}
